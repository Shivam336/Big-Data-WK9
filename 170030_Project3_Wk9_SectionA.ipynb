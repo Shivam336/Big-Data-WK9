{
 "cells": [
  {
   "cell_type": "code",
   "execution_count": 239,
   "metadata": {},
   "outputs": [],
   "source": [
    "import pandas as pd\n",
    "import matplotlib.pyplot as plt "
   ]
  },
  {
   "cell_type": "code",
   "execution_count": 240,
   "metadata": {},
   "outputs": [],
   "source": [
    "titanic_data = pd.read_csv(\"titanic dataset.csv\")"
   ]
  },
  {
   "cell_type": "code",
   "execution_count": 241,
   "metadata": {},
   "outputs": [
    {
     "data": {
      "image/png": "[encoded data removed]",
      "text/plain": [
       "<Figure size 432x288 with 1 Axes>"
      ]
     },
     "metadata": {
      "needs_background": "light"
     },
     "output_type": "display_data"
    }
   ],
   "source": [
    "pclass_pivot = titanic_data.pivot_table(index = 'pclass', values = 'survived')\n",
    "pclass_pivot.plot.bar()\n",
    "plt.show()"
   ]
  },
  {
   "cell_type": "code",
   "execution_count": 242,
   "metadata": {},
   "outputs": [
    {
     "name": "stdout",
     "output_type": "stream",
     "text": [
      "Total number of female: 466\n",
      "Total number of male: 843\n",
      "Total number of alive: 500\n",
      "Total number of dead: 809\n"
     ]
    }
   ],
   "source": [
    "#titanic_data[\"sex\"] == 'female'\n",
    "no_of_male_and_female =titanic_data.groupby('sex').size()\n",
    "no_of_female = no_of_male_and_female[0]\n",
    "no_of_male = no_of_male_and_female[1]\n",
    "\n",
    "\n",
    "survivedData =titanic_data.groupby('survived').size()\n",
    "survivedData_dead = survivedData[0]\n",
    "survivedData_alive = survivedData[1]\n",
    "\n",
    "print(\"Total number of female: \"+str(no_of_female))\n",
    "print(\"Total number of male: \"+str(no_of_male))\n",
    "print(\"Total number of alive: \"+str(survivedData_alive))\n",
    "print(\"Total number of dead: \"+str(survivedData_dead))"
   ]
  },
  {
   "cell_type": "code",
   "execution_count": 243,
   "metadata": {},
   "outputs": [
    {
     "name": "stdout",
     "output_type": "stream",
     "text": [
      "Percentage of SibSp = 0 who survived: 72.74678111587983\n"
     ]
    }
   ],
   "source": [
    "print(\"Percentage of SibSp = 0 who survived:\", titanic_data[\"survived\"][titanic_data[\"sex\"] == 'female'].value_counts(normalize = True)[1]*100)"
   ]
  },
  {
   "cell_type": "code",
   "execution_count": 244,
   "metadata": {},
   "outputs": [
    {
     "name": "stdout",
     "output_type": "stream",
     "text": [
      "Total Passengers are: 1310\n",
      "Number of male survived: 161\n",
      "Number of female survived: 339\n"
     ]
    }
   ],
   "source": [
    "total_passenger = len(titanic_data)\n",
    "female_survived = titanic_data.loc[((titanic_data['sex'] == 'female') & (titanic_data['survived'] == 1))]\n",
    "male_survived = titanic_data.loc[((titanic_data['sex'] == 'male') & (titanic_data['survived'] == 1))]\n",
    "no_of_female_survived = len(female_survived)\n",
    "no_of_male_survived = len(male_survived)\n",
    "print(\"Total Passengers are: \"+str(total_passenger))\n",
    "print(\"Number of male survived: \"+str(no_of_male_survived))\n",
    "print(\"Number of female survived: \"+str(no_of_female_survived))"
   ]
  },
  {
   "cell_type": "code",
   "execution_count": 245,
   "metadata": {},
   "outputs": [
    {
     "name": "stdout",
     "output_type": "stream",
     "text": [
      "Number of male dead: 682\n",
      "Number of female dead: 127\n"
     ]
    }
   ],
   "source": [
    "female_dead = titanic_data.loc[((titanic_data['sex'] == 'female') & (titanic_data['survived'] == 0))]\n",
    "male_dead = titanic_data.loc[((titanic_data['sex'] == 'male') & (titanic_data['survived'] == 0))]\n",
    "no_of_female_dead = len(female_dead)\n",
    "no_of_male_dead = len(male_dead)\n",
    "print(\"Number of male dead: \"+str(no_of_male_dead))\n",
    "print(\"Number of female dead: \"+str(no_of_female_dead))"
   ]
  },
  {
   "cell_type": "code",
   "execution_count": 246,
   "metadata": {},
   "outputs": [
    {
     "name": "stdout",
     "output_type": "stream",
     "text": [
      "Total Survive: 500\n",
      "Total Dead: 809\n"
     ]
    }
   ],
   "source": [
    "total_survive = len(titanic_data.loc[titanic_data['survived']==1])\n",
    "total_dead = len(titanic_data.loc[titanic_data['survived']==0])\n",
    "print(\"Total Survive: \"+str(total_survive))\n",
    "print(\"Total Dead: \"+str(total_dead))"
   ]
  },
  {
   "cell_type": "code",
   "execution_count": 247,
   "metadata": {},
   "outputs": [
    {
     "name": "stdout",
     "output_type": "stream",
     "text": [
      "Question 1. Find out the overall chance of survival for a Titanic passenger?\n",
      "Answer 1. Overall chance of survival for a Titanic passenger: 38.16793893129771%.\n"
     ]
    }
   ],
   "source": [
    "# 1. Find out the overall chance of survival for a Titanic passenger.\n",
    "chance_for_survival_for_passenger = total_survive/(total_passenger)*100\n",
    "print(\"Question 1. Find out the overall chance of survival for a Titanic passenger?\")\n",
    "print(\"Answer 1. Overall chance of survival for a Titanic passenger: \"+str(chance_for_survival_for_passenger)+'%.')"
   ]
  },
  {
   "cell_type": "code",
   "execution_count": 248,
   "metadata": {},
   "outputs": [
    {
     "name": "stdout",
     "output_type": "stream",
     "text": [
      "Question 2. Find out the chance of survival for a Titanic passenger based on their sex and plot it?\n",
      "Answer 2\n",
      "--------------------------------------------------------------------------------\n",
      "Male chance: 32.2\n",
      "Female chance: 67.80000000000001\n"
     ]
    },
    {
     "data": {
      "image/png": "[encoded data removed]",
      "text/plain": [
       "<Figure size 432x288 with 1 Axes>"
      ]
     },
     "metadata": {
      "needs_background": "light"
     },
     "output_type": "display_data"
    }
   ],
   "source": [
    "# 2. Find out the chance of survival for a Titanic passenger based on their sex and plot it.\n",
    "female_chance = no_of_female_survived/total_survive*100\n",
    "male_chance = no_of_male_survived/total_survive*100\n",
    "print(\"Question 2. Find out the chance of survival for a Titanic passenger based on their sex and plot it?\")\n",
    "print(\"Answer 2\")\n",
    "print(\"--------------------------------------------------------------------------------\")\n",
    "print(\"Male chance: \"+str(male_chance))\n",
    "print(\"Female chance: \"+str(female_chance))\n",
    "\n",
    "left = [1, 2] \n",
    "height = [male_chance, female_chance] \n",
    "tick_label = ['Male','Female'] \n",
    "plt.bar(left, height, tick_label = tick_label, width = 0.8, color = ['blue', 'grey'])  \n",
    "plt.xlabel('Gender') \n",
    "plt.ylabel('Chances') \n",
    "plt.title('Chance of survival for a Titanic passenger based on their sex') \n",
    "plt.show() "
   ]
  },
  {
   "cell_type": "code",
   "execution_count": 281,
   "metadata": {},
   "outputs": [
    {
     "name": "stdout",
     "output_type": "stream",
     "text": [
      "Question 3.Find out the chance of survival for a Titanic passenger by traveling class wise and plot it?\n",
      "Answer 3\n",
      "--------------------------------------------------------------------------------\n",
      "First class survival: 61.91950464396285\n",
      "Second class survival: 42.96028880866426\n",
      "Third class survival: 25.52891396332863\n"
     ]
    },
    {
     "data": {
      "image/png": "[encoded data removed]",
      "text/plain": [
       "<Figure size 432x288 with 1 Axes>"
      ]
     },
     "metadata": {
      "needs_background": "light"
     },
     "output_type": "display_data"
    }
   ],
   "source": [
    "#3. Find out the chance of survival for a Titanic passenger by traveling class wise and plot it. \n",
    "first_class_survival= len(titanic_data.loc[((titanic_data['pclass'] == 1.0) & (titanic_data['survived'] == 1))])\n",
    "first_class_dead= len(titanic_data.loc[((titanic_data['pclass'] == 1.0) & (titanic_data['survived'] == 0))])\n",
    "chance_of_firstClass_survival = first_class_survival/(first_class_survival+first_class_dead)*100\n",
    "\n",
    "\n",
    "second_class_survival= len(titanic_data.loc[((titanic_data['pclass'] == 2) & (titanic_data['survived'] == 1))])\n",
    "second_class_dead= len(titanic_data.loc[((titanic_data['pclass'] == 2) & (titanic_data['survived'] == 0))])\n",
    "chance_of_secondClass_survival = second_class_survival/(second_class_survival+second_class_dead)*100\n",
    "\n",
    "\n",
    "third_class_survival= len(titanic_data.loc[((titanic_data['pclass'] == 3) & (titanic_data['survived'] == 1))])\n",
    "third_class_dead= len(titanic_data.loc[((titanic_data['pclass'] == 3) & (titanic_data['survived'] == 0))])\n",
    "chance_of_thirdClass_survival = third_class_survival/(third_class_survival+third_class_dead)*100\n",
    "\n",
    "\n",
    "print(\"Question 3.Find out the chance of survival for a Titanic passenger by traveling class wise and plot it?\")\n",
    "print(\"Answer 3\")\n",
    "print(\"--------------------------------------------------------------------------------\")\n",
    "print(\"First class survival: \"+str(chance_of_firstClass_survival))\n",
    "print(\"Second class survival: \"+str(chance_of_secondClass_survival))\n",
    "print(\"Third class survival: \"+str(chance_of_thirdClass_survival))\n",
    "\n",
    "left = [1,2,3] \n",
    "height = [chance_of_firstClass_survival, chance_of_secondClass_survival,chance_of_thirdClass_survival] \n",
    "tick_label = ['First','Second','Third'] \n",
    "plt.bar(left, height, tick_label = tick_label, width = 0.8, color = ['blue', 'grey','purple'])  \n",
    "plt.xlabel('Class') \n",
    "plt.ylabel('Chances') \n",
    "plt.title('chance of survival for a Titanic passenger by traveling class wise') \n",
    "plt.show() "
   ]
  },
  {
   "cell_type": "code",
   "execution_count": 250,
   "metadata": {},
   "outputs": [
    {
     "name": "stdout",
     "output_type": "stream",
     "text": [
      "Question 4. Find out the average age for a Titanic passenger who survived by passenger class and sex?\n",
      "Answer 4\n",
      "--------------------------------------------------------------------------------\n",
      "Average age for First Class\n",
      "male: 31.42486393442623\n",
      "female: 34.172661870503596\n",
      "--------------------------------------------------------------------------------\n",
      "Average age for Second Class\n",
      "male: 16.053332\n",
      "female: 26.14273085106383\n",
      "--------------------------------------------------------------------------------\n",
      "Average age for Third Class\n",
      "male: 17.65\n",
      "female: 14.138365094339623\n"
     ]
    }
   ],
   "source": [
    "# 4. Find out the average age for a Titanic passenger who survived by passenger class and sex. \n",
    "print(\"Question 4. Find out the average age for a Titanic passenger who survived by passenger class and sex?\")\n",
    "print(\"Answer 4\")\n",
    "print(\"--------------------------------------------------------------------------------\")\n",
    "first_class_survival_data_male= titanic_data.loc[((titanic_data['pclass'] == 1.0) & (titanic_data['survived'] == 1) & (titanic_data['sex'] == \"male\"))]\n",
    "average_first_class_survival_data_male =first_class_survival_data_male['age'].sum()/len(first_class_survival_data_male)\n",
    "\n",
    "first_class_survival_data_female= titanic_data.loc[((titanic_data['pclass'] == 1.0) & (titanic_data['survived'] == 1) & (titanic_data['sex'] == \"female\"))]\n",
    "average_first_class_survival_data_female =first_class_survival_data_female['age'].sum()/len(first_class_survival_data_female)\n",
    "print(\"Average age for First Class\")\n",
    "print(\"male: \"+str(average_first_class_survival_data_male))\n",
    "print(\"female: \"+str(average_first_class_survival_data_female))\n",
    "print(\"--------------------------------------------------------------------------------\")\n",
    "\n",
    "second_class_survival_data_male= titanic_data.loc[((titanic_data['pclass'] == 2.0) & (titanic_data['survived'] == 1) & (titanic_data['sex'] == \"male\"))]\n",
    "average_second_class_survival_data_male =second_class_survival_data_male['age'].sum()/len(second_class_survival_data_male)\n",
    "\n",
    "second_class_survival_data_female= titanic_data.loc[((titanic_data['pclass'] == 2.0) & (titanic_data['survived'] == 1) & (titanic_data['sex'] == \"female\"))]\n",
    "average_second_class_survival_data_female =second_class_survival_data_female['age'].sum()/len(second_class_survival_data_female)\n",
    "print(\"Average age for Second Class\")\n",
    "print(\"male: \"+str(average_second_class_survival_data_male))\n",
    "print(\"female: \"+str(average_second_class_survival_data_female))\n",
    "print(\"--------------------------------------------------------------------------------\")\n",
    "\n",
    "third_class_survival_data_male= titanic_data.loc[((titanic_data['pclass'] == 3.0) & (titanic_data['survived'] == 1) & (titanic_data['sex'] == \"male\"))]\n",
    "average_third_class_survival_data_male =third_class_survival_data_male['age'].sum()/len(third_class_survival_data_male)\n",
    "\n",
    "third_class_survival_data_female= titanic_data.loc[((titanic_data['pclass'] == 3.0) & (titanic_data['survived'] == 1) & (titanic_data['sex'] == \"female\"))]\n",
    "average_third_class_survival_data_female =third_class_survival_data_female['age'].sum()/len(third_class_survival_data_female)\n",
    "print(\"Average age for Third Class\")\n",
    "print(\"male: \"+str(average_third_class_survival_data_male))\n",
    "print(\"female: \"+str(average_third_class_survival_data_female))\n",
    "\n"
   ]
  },
  {
   "cell_type": "code",
   "execution_count": 292,
   "metadata": {},
   "outputs": [
    {
     "name": "stdout",
     "output_type": "stream",
     "text": [
      "Question 5. Find out the chance of survival for a Titanic passenger based on number of siblings the passenger had on the ship and plot it?\n",
      "Answer 5\n",
      "--------------------------------------------------------------------------------\n",
      "[ 0.  1.  2.  3.  4.  5.  8. nan]\n",
      "Chance of survival for a Titanic passenger have siblings 0.0 : 34.68013468013468\n",
      "Chance of survival for a Titanic passenger have siblings 1.0 : 51.09717868338558\n",
      "Chance of survival for a Titanic passenger have siblings 2.0 : 45.23809523809524\n",
      "Chance of survival for a Titanic passenger have siblings 3.0 : 30.0\n",
      "Chance of survival for a Titanic passenger have siblings 4.0 : 13.636363636363635\n",
      "Chance of survival for a Titanic passenger have siblings 5.0 : 0.0\n",
      "Chance of survival for a Titanic passenger have siblings 8.0 : 0.0\n"
     ]
    },
    {
     "data": {
      "image/png": "[encoded data removed]",
      "text/plain": [
       "<Figure size 432x288 with 1 Axes>"
      ]
     },
     "metadata": {
      "needs_background": "light"
     },
     "output_type": "display_data"
    }
   ],
   "source": [
    "#5. Find out the chance of survival for a Titanic passenger based on number of siblings the passenger had on the ship and plot it.\n",
    "print(\"Question 5. Find out the chance of survival for a Titanic passenger based on number of siblings the passenger had on the ship and plot it?\")\n",
    "print(\"Answer 5\")\n",
    "print(\"--------------------------------------------------------------------------------\")\n",
    "sibspdata =titanic_data.sibsp.unique()\n",
    "height=[]\n",
    "print(sibspdata)\n",
    "for i in range(0,len(sibspdata)-1):\n",
    "    #print(sibspdata[i])\n",
    "    sibsp1= len(titanic_data.loc[((titanic_data['sibsp'] == sibspdata[i]) & (titanic_data['survived'] == 1))])\n",
    "    sibsp0= len(titanic_data.loc[((titanic_data['sibsp'] == sibspdata[i]) & (titanic_data['survived'] == 0))])\n",
    "    print(\"Chance of survival for a Titanic passenger have siblings \"+str(sibspdata[i])+\" : \"+str(sibsp1/(sibsp1+sibsp0)*100))\n",
    "    height.append(sibsp1/(sibsp1+sibsp0)*100)\n",
    "    \n",
    "sibspdata_plot = titanic_data.pivot_table(index = 'sibsp', values = 'survived')\n",
    "sibspdata_plot.plot.bar()\n",
    "plt.show()"
   ]
  },
  {
   "cell_type": "code",
   "execution_count": 293,
   "metadata": {},
   "outputs": [
    {
     "name": "stdout",
     "output_type": "stream",
     "text": [
      "Question 6.  Find out the chance of survival for a Titanic passenger based on number of parents/children the passenger had on the ship and plot it?\n",
      "Answer 6\n",
      "--------------------------------------------------------------------------------\n",
      "[ 0.  2.  1.  4.  3.  5.  6.  9. nan]\n",
      "Chance of survival for a Titanic passenger have Parents 0.0 : 33.532934131736525\n",
      "Chance of survival for a Titanic passenger have Parents 2.0 : 50.442477876106196\n",
      "Chance of survival for a Titanic passenger have Parents 1.0 : 58.82352941176471\n",
      "Chance of survival for a Titanic passenger have Parents 4.0 : 16.666666666666664\n",
      "Chance of survival for a Titanic passenger have Parents 3.0 : 62.5\n",
      "Chance of survival for a Titanic passenger have Parents 5.0 : 16.666666666666664\n",
      "Chance of survival for a Titanic passenger have Parents 6.0 : 0.0\n",
      "Chance of survival for a Titanic passenger have Parents 9.0 : 0.0\n"
     ]
    },
    {
     "data": {
      "image/png": "[encoded data removed]",
      "text/plain": [
       "<Figure size 432x288 with 1 Axes>"
      ]
     },
     "metadata": {
      "needs_background": "light"
     },
     "output_type": "display_data"
    }
   ],
   "source": [
    "#6 . Find out the chance of survival for a Titanic passenger based on number of parents/children the passenger had on the ship and plot it.\n",
    "\n",
    "print(\"Question 6.  Find out the chance of survival for a Titanic passenger based on number of parents/children the passenger had on the ship and plot it?\")\n",
    "print(\"Answer 6\")\n",
    "print(\"--------------------------------------------------------------------------------\")\n",
    "parchdata =titanic_data.parch.unique()\n",
    "\n",
    "height=[]\n",
    "print(parchdata)\n",
    "for i in range(0,len(parchdata)-1):\n",
    "    #print(sibspdata[i])\n",
    "    parch1= len(titanic_data.loc[((titanic_data['parch'] == parchdata[i]) & (titanic_data['survived'] == 1))])\n",
    "    parch0= len(titanic_data.loc[((titanic_data['parch'] == parchdata[i]) & (titanic_data['survived'] == 0))])\n",
    "    print(\"Chance of survival for a Titanic passenger have Parents \"+str(parchdata[i])+\" : \"+str(parch1/(parch1+parch0)*100))\n",
    "    height.append(parch1/(parch1+parch0)*100)\n",
    "\n",
    "parchdata_plot = titanic_data.pivot_table(index = 'parch', values = 'survived')\n",
    "parchdata_plot.plot.bar()\n",
    "plt.show()"
   ]
  },
  {
   "cell_type": "code",
   "execution_count": 303,
   "metadata": {},
   "outputs": [
    {
     "data": {
      "image/png": "[encoded data removed]",
      "text/plain": [
       "<Figure size 432x288 with 1 Axes>"
      ]
     },
     "metadata": {
      "needs_background": "light"
     },
     "output_type": "display_data"
    }
   ],
   "source": [
    "#7. Plot out the variation of survival and death amongst passengers of different age.\n",
    "limit = [-1,0,5,12,18,35,60,100]\n",
    "age_group = [\"Missing Data\",\"Infant\",\"Child\",\"Teenager\",\"Young Adult\",\"Adult\",\"Senior\"]\n",
    "titanic_data[\"age\"] = titanic_data[\"age\"].fillna(-0.5)\n",
    "titanic_data[\"age_category\"] = pd.cut(titanic_data[\"age\"],limit,labels=age_group)\n",
    "\n",
    "age_data = titanic_data.pivot_table(index=\"age_category\",values='survived')\n",
    "age_data.plot.bar()\n",
    "plt.show()"
   ]
  },
  {
   "cell_type": "code",
   "execution_count": 295,
   "metadata": {},
   "outputs": [],
   "source": [
    "#8. Plot out the variation of survival and death with age amongst passengers of different passenger classes.\n"
   ]
  },
  {
   "cell_type": "code",
   "execution_count": 296,
   "metadata": {},
   "outputs": [],
   "source": [
    "#9. Find out the survival probability for a Titanic passenger based on title from the name of passenger."
   ]
  },
  {
   "cell_type": "code",
   "execution_count": null,
   "metadata": {},
   "outputs": [],
   "source": []
  }
 ],
 "metadata": {
  "kernelspec": {
   "display_name": "Python 3",
   "language": "python",
   "name": "python3"
  },
  "language_info": {
   "codemirror_mode": {
    "name": "ipython",
    "version": 3
   },
   "file_extension": ".py",
   "mimetype": "text/x-python",
   "name": "python",
   "nbconvert_exporter": "python",
   "pygments_lexer": "ipython3",
   "version": "3.7.3"
  }
 },
 "nbformat": 4,
 "nbformat_minor": 2
}
